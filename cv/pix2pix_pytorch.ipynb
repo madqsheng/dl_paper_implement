{
 "cells": [
  {
   "cell_type": "markdown",
   "metadata": {},
   "source": [
    "参考：\n",
    "1. https://blog.csdn.net/qq_57886603/article/details/122051538\n",
    "2. https://github.com/junyanz/pytorch-CycleGAN-and-pix2pix/blob/master/util/get_data.py"
   ]
  },
  {
   "cell_type": "markdown",
   "metadata": {},
   "source": [
    "## 下载facades数据集\n",
    "链接：http://efrosgans.eecs.berkeley.edu/pix2pix/datasets/facades.tar.gz\n",
    "\n",
    "解压以后分好了训练集，测试集，验证集"
   ]
  },
  {
   "cell_type": "code",
   "execution_count": 1,
   "metadata": {},
   "outputs": [
    {
     "name": "stderr",
     "output_type": "stream",
     "text": [
      "31.7MB [00:04, 7.66MB/s]                            \n"
     ]
    }
   ],
   "source": [
    "import os\n",
    "import requests\n",
    "import shutil\n",
    "from tqdm import tqdm  \n",
    "\n",
    "dataset_list=['cityscapes','edges2handbags','edges2shoes','facades','maps','night2day']\n",
    "\n",
    "def download_dataset(dataset_name='facades'):\n",
    "    extract_dir=f'./../data/pix2pix_datasets'\n",
    "    if not os.path.exists(extract_dir):\n",
    "        os.makedirs(extract_dir)\n",
    "\n",
    "    dataset_url=f'http://efrosgans.eecs.berkeley.edu/pix2pix/datasets/{dataset_name}.tar.gz'\n",
    "    with requests.get(dataset_url, stream=True) as response:\n",
    "        response.raise_for_status()\n",
    "        total_size = int(response.headers.get('content-length', 0))\n",
    "        block_size = 1024  # 1 KB\n",
    "        progress_bar = tqdm(total=total_size, unit='B', unit_scale=True)\n",
    "\n",
    "        tar_file=os.path.join(extract_dir,f'{dataset_name}.tar.gz')\n",
    "        with open(tar_file, 'wb') as file:\n",
    "            for data in response.iter_content(block_size):\n",
    "                progress_bar.update(len(data))\n",
    "                file.write(data)\n",
    "        progress_bar.close()\n",
    "    \n",
    "    # 解压文件\n",
    "    shutil.unpack_archive(tar_file, extract_dir, 'gztar')\n",
    "    # 删除压缩文件\n",
    "    os.remove(tar_file)\n",
    "\n",
    "download_dataset()"
   ]
  },
  {
   "cell_type": "markdown",
   "metadata": {},
   "source": [
    "## 准备训练数据"
   ]
  },
  {
   "cell_type": "code",
   "execution_count": 2,
   "metadata": {},
   "outputs": [],
   "source": [
    "from torch.utils.data.dataset import Dataset\n",
    "import torch\n",
    "from torchvision import transforms\n",
    "from PIL import Image\n",
    "import glob\n",
    "import os\n",
    "\n",
    "def get_data_path(data_type):\n",
    "    dir_root=f'./pix2pix_datasets/facades'\n",
    "    img_path_list = glob.glob(os.path.join(dir_root,f'{data_type}/*.jpg'))\n",
    "    return img_path_list\n",
    "    \n",
    "\n",
    "class CustomDataset(Dataset):\n",
    "    # 构造函数\n",
    "    def __init__(self, img_path_list,img_size):\n",
    "        self.img_path_list = img_path_list\n",
    "        self.transforms=transforms.Compose([\n",
    "            transforms.ToTensor(),\n",
    "            transforms.Resize((img_size,img_size)),\n",
    "            transforms.Normalize((0.5, 0.5, 0.5), (0.5, 0.5, 0.5))\n",
    "        ])\n",
    "    # 返回数据集大小\n",
    "    def __len__(self):\n",
    "        return len(self.img_path_list)\n",
    "\n",
    "    # 返回索引的数据与标签\n",
    "    def __getitem__(self, index):\n",
    "        AB = Image.open(self.img_path_list[index]).convert('RGB')\n",
    "        # split AB image into A and B\n",
    "        w, h = AB.size\n",
    "        w2 = int(w / 2)\n",
    "        origin_img = AB.crop((0, 0, w2, h))\n",
    "        target_img = AB.crop((w2, 0, w, h))\n",
    "\n",
    "        origin_img = self.transforms(origin_img)\n",
    "        target_img = self.transforms(target_img)\n",
    "\n",
    "        return (origin_img,target_img)\n",
    "    \n",
    "train_dataset=CustomDataset(get_data_path('train'),256)\n",
    "val_dataset=CustomDataset(get_data_path('val'),256)\n",
    "test_dataset=CustomDataset(get_data_path('test'),256)\n",
    "\n",
    "batch_size=64\n",
    "train_loader = torch.utils.data.DataLoader(train_dataset, batch_size=batch_size, shuffle=True)\n",
    "val_loader = torch.utils.data.DataLoader(val_dataset, batch_size=batch_size, shuffle=True)\n",
    "test_loader = torch.utils.data.DataLoader(test_dataset, batch_size=batch_size, shuffle=False)\n"
   ]
  },
  {
   "cell_type": "markdown",
   "metadata": {},
   "source": [
    "# 构建生成器generator"
   ]
  },
  {
   "cell_type": "code",
   "execution_count": 4,
   "metadata": {},
   "outputs": [],
   "source": [
    "import torch.nn as nn\n",
    "\n",
    "class InnerMost(nn.Module):\n",
    "    def __init__():\n",
    "        super().__init__()\n",
    "        downconv = nn.Conv2d(input_nc, inner_nc, kernel_size=4,\n",
    "                             stride=2, padding=1, bias=use_bias)\n",
    "        downrelu = nn.LeakyReLU(0.2, True)  \n",
    "        downnorm = norm_layer(inzxedner_nc)\n",
    "        uprelu = nn.ReLU(True)\n",
    "        upconv = nn.ConvTranspose2d(\n",
    "            inner_nc,\n",
    "            outer_nc,\n",
    "            kernel_size=4, \n",
    "            stride=2,padding=1, \n",
    "            bias=use_bias\n",
    "            )\n",
    "\n",
    "        upnorm = norm_layer(outer_nc)\n",
    "        \n",
    "        down = [downrelu, downconv]\n",
    "        up = [uprelu, upconv, upnorm]\n",
    "        model = down + up\n",
    "    "
   ]
  }
 ],
 "metadata": {
  "kernelspec": {
   "display_name": "base",
   "language": "python",
   "name": "python3"
  },
  "language_info": {
   "codemirror_mode": {
    "name": "ipython",
    "version": 3
   },
   "file_extension": ".py",
   "mimetype": "text/x-python",
   "name": "python",
   "nbconvert_exporter": "python",
   "pygments_lexer": "ipython3",
   "version": "3.11.4"
  }
 },
 "nbformat": 4,
 "nbformat_minor": 2
}
