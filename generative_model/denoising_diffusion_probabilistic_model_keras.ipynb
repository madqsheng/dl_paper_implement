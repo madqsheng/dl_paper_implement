{
 "cells": [
  {
   "cell_type": "code",
   "execution_count": 2,
   "metadata": {},
   "outputs": [
    {
     "name": "stdout",
     "output_type": "stream",
     "text": [
      "WARNING:tensorflow:From C:\\Users\\admin\\AppData\\Roaming\\Python\\Python311\\site-packages\\keras\\src\\losses.py:2976: The name tf.losses.sparse_softmax_cross_entropy is deprecated. Please use tf.compat.v1.losses.sparse_softmax_cross_entropy instead.\n",
      "\n"
     ]
    }
   ],
   "source": [
    "import math\n",
    "import numpy as np\n",
    "import matplotlib.pyplot as plt\n",
    "\n",
    "# Requires TensorFlow >=2.11 for the GroupNormalization layer.\n",
    "import tensorflow as tf\n",
    "from tensorflow import keras\n",
    "from keras import layers\n",
    "import tensorflow_datasets as tfds"
   ]
  },
  {
   "cell_type": "markdown",
   "metadata": {},
   "source": [
    "#### 超参数"
   ]
  },
  {
   "cell_type": "code",
   "execution_count": 3,
   "metadata": {},
   "outputs": [],
   "source": [
    "batch_size = 32\n",
    "num_epochs = 1  # Just for the sake of demonstration\n",
    "total_timesteps = 1000\n",
    "norm_groups = 8  # Number of groups used in GroupNormalization layer\n",
    "learning_rate = 2e-4\n",
    "\n",
    "img_size = 64\n",
    "img_channels = 3\n",
    "clip_min = -1.0\n",
    "clip_max = 1.0\n",
    "\n",
    "first_conv_channels = 64\n",
    "channel_multiplier = [1, 2, 4, 8]\n",
    "widths = [first_conv_channels * mult for mult in channel_multiplier]\n",
    "has_attention = [False, False, True, True]\n",
    "num_res_blocks = 2  # Number of residual blocks\n",
    "\n",
    "dataset_name = \"oxford_flowers102\"\n",
    "splits = [\"train\"]"
   ]
  },
  {
   "cell_type": "markdown",
   "metadata": {},
   "source": [
    "#### 数据集"
   ]
  },
  {
   "cell_type": "code",
   "execution_count": 4,
   "metadata": {},
   "outputs": [],
   "source": [
    "import os\n",
    "\n",
    "# Load the dataset\n",
    "# data_dir = os.path.join(os.getcwd(), 'oxford_flowers102_datasets')\n",
    "(ds,) = tfds.load(dataset_name, split=splits, with_info=False, shuffle_files=True, data_dir=r'./../data/oxford_flowers102_datasets')\n",
    "\n",
    "\n",
    "def augment(img):\n",
    "    \"\"\"Flips an image left/right randomly.\"\"\"\n",
    "    return tf.image.random_flip_left_right(img)\n",
    "\n",
    "\n",
    "def resize_and_rescale(img, size):\n",
    "    \"\"\"Resize the image to the desired size first and then\n",
    "    rescale the pixel values in the range [-1.0, 1.0].\n",
    "\n",
    "    Args:\n",
    "        img: Image tensor\n",
    "        size: Desired image size for resizing\n",
    "    Returns:\n",
    "        Resized and rescaled image tensor\n",
    "    \"\"\"\n",
    "\n",
    "    height = tf.shape(img)[0]\n",
    "    width = tf.shape(img)[1]\n",
    "    crop_size = tf.minimum(height, width)\n",
    "\n",
    "    img = tf.image.crop_to_bounding_box(\n",
    "        img,\n",
    "        (height - crop_size) // 2,\n",
    "        (width - crop_size) // 2,\n",
    "        crop_size,\n",
    "        crop_size,\n",
    "    )\n",
    "\n",
    "    # Resize\n",
    "    img = tf.cast(img, dtype=tf.float32)\n",
    "    img = tf.image.resize(img, size=size, antialias=True)\n",
    "\n",
    "    # Rescale the pixel values\n",
    "    img = img / 127.5 - 1.0\n",
    "    img = tf.clip_by_value(img, clip_min, clip_max)\n",
    "    return img\n",
    "\n",
    "\n",
    "def train_preprocessing(x):\n",
    "    img = x[\"image\"]\n",
    "    img = resize_and_rescale(img, size=(img_size, img_size))\n",
    "    img = augment(img)\n",
    "    return img\n",
    "\n",
    "\n",
    "train_ds = (\n",
    "    ds.map(train_preprocessing, num_parallel_calls=tf.data.AUTOTUNE)\n",
    "    .batch(batch_size, drop_remainder=True)\n",
    "    .shuffle(batch_size * 2)\n",
    "    .prefetch(tf.data.AUTOTUNE)\n",
    ")"
   ]
  }
 ],
 "metadata": {
  "kernelspec": {
   "display_name": "base",
   "language": "python",
   "name": "python3"
  },
  "language_info": {
   "codemirror_mode": {
    "name": "ipython",
    "version": 3
   },
   "file_extension": ".py",
   "mimetype": "text/x-python",
   "name": "python",
   "nbconvert_exporter": "python",
   "pygments_lexer": "ipython3",
   "version": "3.11.4"
  }
 },
 "nbformat": 4,
 "nbformat_minor": 2
}
